{
 "cells": [
  {
   "cell_type": "code",
   "execution_count": 1,
   "metadata": {},
   "outputs": [
    {
     "output_type": "stream",
     "name": "stderr",
     "text": [
      "C:\\Users\\hp\\AppData\\Local\\Programs\\Python\\Python37\\lib\\site-packages\\nilearn\\datasets\\__init__.py:90: FutureWarning: Fetchers from the nilearn.datasets module will be updated in version 0.9 to return python strings instead of bytes and Pandas dataframes instead of Numpy arrays.\n  \"Numpy arrays.\", FutureWarning)\n"
     ]
    }
   ],
   "source": [
    "from nilearn import datasets, plotting\n",
    "from nilearn.input_data import NiftiSpheresMasker\n",
    "from nilearn.glm.first_level import FirstLevelModel\n",
    "from nilearn.glm.first_level import make_first_level_design_matrix\n",
    "from nilearn.masking import compute_epi_mask\n",
    "from nilearn.masking import apply_mask\n",
    "\n",
    "import numpy as np\n",
    "import pandas as pd\n",
    "import matplotlib.pyplot as plt"
   ]
  },
  {
   "cell_type": "code",
   "execution_count": 2,
   "metadata": {},
   "outputs": [
    {
     "output_type": "stream",
     "name": "stderr",
     "text": [
      "C:\\Users\\hp\\AppData\\Local\\Programs\\Python\\Python37\\lib\\site-packages\\numpy\\lib\\npyio.py:2349: VisibleDeprecationWarning: Reading unicode strings without specifying the encoding argument is deprecated. Set the encoding, use None for the system default.\n  output = genfromtxt(fname, **kwargs)\n"
     ]
    }
   ],
   "source": [
    "#adhd_dataset = datasets.fetch_adhd(n_subjects=40)\n",
    "atlas = datasets.fetch_atlas_msdl()\n",
    "atlas_filename = atlas['maps']\n",
    "\n",
    "from nilearn.input_data import NiftiMapsMasker\n",
    "masker = NiftiMapsMasker(maps_img=atlas_filename, standardize=True,\n",
    "                         memory='nilearn_cache', verbose=5)"
   ]
  },
  {
   "cell_type": "code",
   "execution_count": 3,
   "metadata": {},
   "outputs": [],
   "source": [
    "import pandas as pd\n",
    "df = pd.read_csv('patients.csv',usecols =['Subject','Labels'])\n",
    "df = df[26:26+94]"
   ]
  },
  {
   "cell_type": "code",
   "execution_count": 4,
   "metadata": {},
   "outputs": [
    {
     "output_type": "stream",
     "name": "stdout",
     "text": [
      "[NiftiMapsMasker.fit_transform] loading regions from C:\\Users\\hp\\nilearn_data\\msdl_atlas\\MSDL_rois\\msdl_rois.nii\n",
      "Resampling maps\n",
      "[Memory]0.1s, 0.0min    : Loading resample_img...\n",
      "C:\\Users\\hp\\AppData\\Local\\Programs\\Python\\Python37\\lib\\site-packages\\nilearn\\_utils\\cache_mixin.py:303: UserWarning: memory_level is currently set to 0 but a Memory object has been provided. Setting memory_level to 1.\n",
      "  warnings.warn(\"memory_level is currently set to 0 but \"\n",
      "________________________________________resample_img cache loaded - 1.4s, 0.0min\n",
      "________________________________________________________________________________\n",
      "[Memory] Calling nilearn.input_data.base_masker.filter_and_extract...\n",
      "filter_and_extract(('F:\\\\Data Analytics\\\\BTP '\n",
      " 'I\\\\Data\\\\www.nitrc.org\\\\ir\\\\KKI_1019436_1\\\\rest_1\\\\NIfTI\\\\rest.nii.gz'), \n",
      "<nilearn.input_data.nifti_maps_masker._ExtractionFunctor object at 0x000001FD69540C50>, \n",
      "{ 'allow_overlap': True,\n",
      "  'detrend': False,\n",
      "  'dtype': None,\n",
      "  'high_pass': None,\n",
      "  'high_variance_confounds': False,\n",
      "  'low_pass': None,\n",
      "  'maps_img': 'C:\\\\Users\\\\hp/nilearn_data\\\\msdl_atlas\\\\MSDL_rois\\\\msdl_rois.nii',\n",
      "  'mask_img': None,\n",
      "  'smoothing_fwhm': None,\n",
      "  'standardize': True,\n",
      "  'standardize_confounds': True,\n",
      "  't_r': None,\n",
      "  'target_affine': None,\n",
      "  'target_shape': None}, confounds=None, dtype=None, memory=Memory(location=nilearn_cache\\joblib), memory_level=1, verbose=5)\n",
      "[NiftiMapsMasker.transform_single_imgs] Loading data from F:\\Data Analytics\\BTP I\\Data\\www.nitrc.org\\ir\\KKI_1019436_1\\rest_1\\NIfTI\\rest.nii.gz\n",
      "[NiftiMapsMasker.transform_single_imgs] Extracting region signals\n",
      "[NiftiMapsMasker.transform_single_imgs] Cleaning extracted signals\n",
      "C:\\Users\\hp\\AppData\\Local\\Programs\\Python\\Python37\\lib\\site-packages\\nilearn\\input_data\\nifti_maps_masker.py:352: UserWarning: Persisting input arguments took 0.65s to run.\n",
      "If this happens often in your code, it can cause performance problems \n",
      "(results will be correct in all cases). \n",
      "The reason for this is probably some large input arguments for a wrapped\n",
      " function (e.g. large strings).\n",
      "THIS IS A JOBLIB ISSUE. If you can, kindly provide the joblib's team with an\n",
      " example so that they can fix the problem.\n",
      "  verbose=self.verbose)\n",
      "______________________________________________filter_and_extract - 11.1s, 0.2min\n",
      "(152, 39)\n",
      "(39, 39)\n"
     ]
    }
   ],
   "source": [
    "from nilearn.connectome import ConnectivityMeasure\n",
    "func_filename =str('F:\\\\Data Analytics\\\\BTP I\\\\Data\\\\www.nitrc.org\\\\ir\\\\') + str(df.values[1,0])+str('_1\\\\rest_1\\\\NIfTI\\\\rest.nii.gz')\n",
    "time_series = masker.fit_transform(func_filename)\n",
    "print(time_series.shape)\n",
    "correlation_measure = ConnectivityMeasure(kind='correlation')\n",
    "correlation_matrix = correlation_measure.fit_transform([time_series])[0]\n",
    "print(correlation_matrix.shape)"
   ]
  },
  {
   "cell_type": "code",
   "execution_count": 5,
   "metadata": {
    "tags": [
     "outputPrepend"
    ]
   },
   "outputs": [
    {
     "output_type": "stream",
     "name": "stdout",
     "text": [
      "an fix the problem.\n",
      "  verbose=self.verbose)\n",
      "_______________________________________________filter_and_extract - 5.3s, 0.1min\n",
      "[NiftiMapsMasker.fit_transform] loading regions from C:\\Users\\hp\\nilearn_data\\msdl_atlas\\MSDL_rois\\msdl_rois.nii\n",
      "[Memory]133.9s, 2.2min  : Loading filter_and_extract...\n",
      "__________________________________filter_and_extract cache loaded - 0.0s, 0.0min\n",
      "[NiftiMapsMasker.fit_transform] loading regions from C:\\Users\\hp\\nilearn_data\\msdl_atlas\\MSDL_rois\\msdl_rois.nii\n",
      "Resampling maps\n",
      "[Memory]135.0s, 2.3min  : Loading resample_img...\n",
      "________________________________________resample_img cache loaded - 1.4s, 0.0min\n",
      "[Memory]136.9s, 2.3min  : Loading filter_and_extract...\n",
      "__________________________________filter_and_extract cache loaded - 0.0s, 0.0min\n",
      "[NiftiMapsMasker.fit_transform] loading regions from C:\\Users\\hp\\nilearn_data\\msdl_atlas\\MSDL_rois\\msdl_rois.nii\n",
      "Resampling maps\n",
      "[Memory]138.0s, 2.3min  : Loading resample_img...\n",
      "________________________________________resample_img cache loaded - 0.0s, 0.0min\n",
      "[Memory]138.4s, 2.3min  : Loading filter_and_extract...\n",
      "__________________________________filter_and_extract cache loaded - 0.0s, 0.0min\n",
      "[NiftiMapsMasker.fit_transform] loading regions from C:\\Users\\hp\\nilearn_data\\msdl_atlas\\MSDL_rois\\msdl_rois.nii\n",
      "________________________________________________________________________________\n",
      "[Memory] Calling nilearn.input_data.base_masker.filter_and_extract...\n",
      "filter_and_extract(('F:\\\\Data Analytics\\\\BTP '\n",
      " 'I\\\\Data\\\\www.nitrc.org\\\\ir\\\\KKI_20017_1\\\\rest_1\\\\NIfTI\\\\rest.nii.gz'), \n",
      "<nilearn.input_data.nifti_maps_masker._ExtractionFunctor object at 0x000001FD695D4BE0>, \n",
      "{ 'allow_overlap': True,\n",
      "  'detrend': False,\n",
      "  'dtype': None,\n",
      "  'high_pass': None,\n",
      "  'high_variance_confounds': False,\n",
      "  'low_pass': None,\n",
      "  'maps_img': 'C:\\\\Users\\\\hp/nilearn_data\\\\msdl_atlas\\\\MSDL_rois\\\\msdl_rois.nii',\n",
      "  'mask_img': None,\n",
      "  'smoothing_fwhm': None,\n",
      "  'standardize': True,\n",
      "  'standardize_confounds': True,\n",
      "  't_r': None,\n",
      "  'target_affine': None,\n",
      "  'target_shape': None}, confounds=None, dtype=None, memory=Memory(location=nilearn_cache\\joblib), memory_level=1, verbose=5)\n",
      "[NiftiMapsMasker.transform_single_imgs] Loading data from F:\\Data Analytics\\BTP I\\Data\\www.nitrc.org\\ir\\KKI_20017_1\\rest_1\\NIfTI\\rest.nii.gz\n",
      "[NiftiMapsMasker.transform_single_imgs] Extracting region signals\n",
      "[NiftiMapsMasker.transform_single_imgs] Cleaning extracted signals\n",
      "_______________________________________________filter_and_extract - 5.0s, 0.1min\n",
      "[NiftiMapsMasker.fit_transform] loading regions from C:\\Users\\hp\\nilearn_data\\msdl_atlas\\MSDL_rois\\msdl_rois.nii\n",
      "Resampling maps\n",
      "[Memory]148.0s, 2.5min  : Loading resample_img...\n",
      "________________________________________resample_img cache loaded - 2.0s, 0.0min\n",
      "[Memory]150.4s, 2.5min  : Loading filter_and_extract...\n",
      "__________________________________filter_and_extract cache loaded - 0.0s, 0.0min\n",
      "[NiftiMapsMasker.fit_transform] loading regions from C:\\Users\\hp\\nilearn_data\\msdl_atlas\\MSDL_rois\\msdl_rois.nii\n",
      "Resampling maps\n",
      "[Memory]152.0s, 2.5min  : Loading resample_img...\n",
      "________________________________________resample_img cache loaded - 2.0s, 0.0min\n",
      "[Memory]154.5s, 2.6min  : Loading filter_and_extract...\n",
      "__________________________________filter_and_extract cache loaded - 0.0s, 0.0min\n",
      "[NiftiMapsMasker.fit_transform] loading regions from C:\\Users\\hp\\nilearn_data\\msdl_atlas\\MSDL_rois\\msdl_rois.nii\n",
      "Resampling maps\n",
      "[Memory]156.6s, 2.6min  : Loading resample_img...\n",
      "________________________________________resample_img cache loaded - 0.0s, 0.0min\n",
      "[Memory]156.9s, 2.6min  : Loading filter_and_extract...\n",
      "__________________________________filter_and_extract cache loaded - 0.0s, 0.0min\n",
      "[NiftiMapsMasker.fit_transform] loading regions from C:\\Users\\hp\\nilearn_data\\msdl_atlas\\MSDL_rois\\msdl_rois.nii\n",
      "________________________________________________________________________________\n",
      "[Memory] Calling nilearn.input_data.base_masker.filter_and_extract...\n",
      "filter_and_extract(('F:\\\\Data Analytics\\\\BTP '\n",
      " 'I\\\\Data\\\\www.nitrc.org\\\\ir\\\\KKI_2018106_1\\\\rest_1\\\\NIfTI\\\\rest.nii.gz'), \n",
      "<nilearn.input_data.nifti_maps_masker._ExtractionFunctor object at 0x000001FD695D45F8>, \n",
      "{ 'allow_overlap': True,\n",
      "  'detrend': False,\n",
      "  'dtype': None,\n",
      "  'high_pass': None,\n",
      "  'high_variance_confounds': False,\n",
      "  'low_pass': None,\n",
      "  'maps_img': 'C:\\\\Users\\\\hp/nilearn_data\\\\msdl_atlas\\\\MSDL_rois\\\\msdl_rois.nii',\n",
      "  'mask_img': None,\n",
      "  'smoothing_fwhm': None,\n",
      "  'standardize': True,\n",
      "  'standardize_confounds': True,\n",
      "  't_r': None,\n",
      "  'target_affine': None,\n",
      "  'target_shape': None}, confounds=None, dtype=None, memory=Memory(location=nilearn_cache\\joblib), memory_level=1, verbose=5)\n",
      "[NiftiMapsMasker.transform_single_imgs] Loading data from F:\\Data Analytics\\BTP I\\Data\\www.nitrc.org\\ir\\KKI_2018106_1\\rest_1\\NIfTI\\rest.nii.gz\n",
      "[NiftiMapsMasker.transform_single_imgs] Extracting region signals\n",
      "[NiftiMapsMasker.transform_single_imgs] Cleaning extracted signals\n",
      "_______________________________________________filter_and_extract - 5.0s, 0.1min\n",
      "[NiftiMapsMasker.fit_transform] loading regions from C:\\Users\\hp\\nilearn_data\\msdl_atlas\\MSDL_rois\\msdl_rois.nii\n",
      "[Memory]165.3s, 2.8min  : Loading filter_and_extract...\n",
      "__________________________________filter_and_extract cache loaded - 0.0s, 0.0min\n",
      "[NiftiMapsMasker.fit_transform] loading regions from C:\\Users\\hp\\nilearn_data\\msdl_atlas\\MSDL_rois\\msdl_rois.nii\n",
      "[Memory]166.8s, 2.8min  : Loading filter_and_extract...\n",
      "__________________________________filter_and_extract cache loaded - 0.0s, 0.0min\n",
      "[NiftiMapsMasker.fit_transform] loading regions from C:\\Users\\hp\\nilearn_data\\msdl_atlas\\MSDL_rois\\msdl_rois.nii\n",
      "[Memory]168.2s, 2.8min  : Loading filter_and_extract...\n",
      "__________________________________filter_and_extract cache loaded - 0.0s, 0.0min\n",
      "[NiftiMapsMasker.fit_transform] loading regions from C:\\Users\\hp\\nilearn_data\\msdl_atlas\\MSDL_rois\\msdl_rois.nii\n",
      "[Memory]169.7s, 2.8min  : Loading filter_and_extract...\n",
      "__________________________________filter_and_extract cache loaded - 0.0s, 0.0min\n",
      "[NiftiMapsMasker.fit_transform] loading regions from C:\\Users\\hp\\nilearn_data\\msdl_atlas\\MSDL_rois\\msdl_rois.nii\n",
      "[Memory]171.2s, 2.9min  : Loading filter_and_extract...\n",
      "__________________________________filter_and_extract cache loaded - 0.0s, 0.0min\n",
      "[NiftiMapsMasker.fit_transform] loading regions from C:\\Users\\hp\\nilearn_data\\msdl_atlas\\MSDL_rois\\msdl_rois.nii\n",
      "[Memory]172.7s, 2.9min  : Loading filter_and_extract...\n",
      "__________________________________filter_and_extract cache loaded - 0.0s, 0.0min\n",
      "[NiftiMapsMasker.fit_transform] loading regions from C:\\Users\\hp\\nilearn_data\\msdl_atlas\\MSDL_rois\\msdl_rois.nii\n",
      "[Memory]174.2s, 2.9min  : Loading filter_and_extract...\n",
      "__________________________________filter_and_extract cache loaded - 0.0s, 0.0min\n",
      "[NiftiMapsMasker.fit_transform] loading regions from C:\\Users\\hp\\nilearn_data\\msdl_atlas\\MSDL_rois\\msdl_rois.nii\n",
      "[Memory]175.8s, 2.9min  : Loading filter_and_extract...\n",
      "__________________________________filter_and_extract cache loaded - 0.0s, 0.0min\n",
      "[NiftiMapsMasker.fit_transform] loading regions from C:\\Users\\hp\\nilearn_data\\msdl_atlas\\MSDL_rois\\msdl_rois.nii\n",
      "[Memory]177.2s, 3.0min  : Loading filter_and_extract...\n",
      "__________________________________filter_and_extract cache loaded - 0.0s, 0.0min\n",
      "[NiftiMapsMasker.fit_transform] loading regions from C:\\Users\\hp\\nilearn_data\\msdl_atlas\\MSDL_rois\\msdl_rois.nii\n",
      "[Memory]178.8s, 3.0min  : Loading filter_and_extract...\n",
      "__________________________________filter_and_extract cache loaded - 0.0s, 0.0min\n",
      "[NiftiMapsMasker.fit_transform] loading regions from C:\\Users\\hp\\nilearn_data\\msdl_atlas\\MSDL_rois\\msdl_rois.nii\n",
      "[Memory]180.3s, 3.0min  : Loading filter_and_extract...\n",
      "__________________________________filter_and_extract cache loaded - 0.0s, 0.0min\n",
      "[NiftiMapsMasker.fit_transform] loading regions from C:\\Users\\hp\\nilearn_data\\msdl_atlas\\MSDL_rois\\msdl_rois.nii\n",
      "[Memory]181.8s, 3.0min  : Loading filter_and_extract...\n",
      "__________________________________filter_and_extract cache loaded - 0.0s, 0.0min\n",
      "[NiftiMapsMasker.fit_transform] loading regions from C:\\Users\\hp\\nilearn_data\\msdl_atlas\\MSDL_rois\\msdl_rois.nii\n",
      "[Memory]183.2s, 3.1min  : Loading filter_and_extract...\n",
      "__________________________________filter_and_extract cache loaded - 0.0s, 0.0min\n",
      "[NiftiMapsMasker.fit_transform] loading regions from C:\\Users\\hp\\nilearn_data\\msdl_atlas\\MSDL_rois\\msdl_rois.nii\n",
      "[Memory]184.7s, 3.1min  : Loading filter_and_extract...\n",
      "__________________________________filter_and_extract cache loaded - 0.0s, 0.0min\n",
      "[NiftiMapsMasker.fit_transform] loading regions from C:\\Users\\hp\\nilearn_data\\msdl_atlas\\MSDL_rois\\msdl_rois.nii\n",
      "[Memory]186.1s, 3.1min  : Loading filter_and_extract...\n",
      "__________________________________filter_and_extract cache loaded - 0.0s, 0.0min\n",
      "[NiftiMapsMasker.fit_transform] loading regions from C:\\Users\\hp\\nilearn_data\\msdl_atlas\\MSDL_rois\\msdl_rois.nii\n",
      "[Memory]187.7s, 3.1min  : Loading filter_and_extract...\n",
      "__________________________________filter_and_extract cache loaded - 0.0s, 0.0min\n",
      "[NiftiMapsMasker.fit_transform] loading regions from C:\\Users\\hp\\nilearn_data\\msdl_atlas\\MSDL_rois\\msdl_rois.nii\n",
      "[Memory]189.1s, 3.2min  : Loading filter_and_extract...\n",
      "__________________________________filter_and_extract cache loaded - 0.0s, 0.0min\n",
      "[NiftiMapsMasker.fit_transform] loading regions from C:\\Users\\hp\\nilearn_data\\msdl_atlas\\MSDL_rois\\msdl_rois.nii\n",
      "[Memory]190.5s, 3.2min  : Loading filter_and_extract...\n",
      "__________________________________filter_and_extract cache loaded - 0.0s, 0.0min\n",
      "[NiftiMapsMasker.fit_transform] loading regions from C:\\Users\\hp\\nilearn_data\\msdl_atlas\\MSDL_rois\\msdl_rois.nii\n",
      "[Memory]191.9s, 3.2min  : Loading filter_and_extract...\n",
      "__________________________________filter_and_extract cache loaded - 0.0s, 0.0min\n",
      "[NiftiMapsMasker.fit_transform] loading regions from C:\\Users\\hp\\nilearn_data\\msdl_atlas\\MSDL_rois\\msdl_rois.nii\n",
      "[Memory]193.4s, 3.2min  : Loading filter_and_extract...\n",
      "__________________________________filter_and_extract cache loaded - 0.0s, 0.0min\n",
      "[NiftiMapsMasker.fit_transform] loading regions from C:\\Users\\hp\\nilearn_data\\msdl_atlas\\MSDL_rois\\msdl_rois.nii\n",
      "[Memory]195.0s, 3.3min  : Loading filter_and_extract...\n",
      "__________________________________filter_and_extract cache loaded - 0.0s, 0.0min\n",
      "[NiftiMapsMasker.fit_transform] loading regions from C:\\Users\\hp\\nilearn_data\\msdl_atlas\\MSDL_rois\\msdl_rois.nii\n",
      "[Memory]196.7s, 3.3min  : Loading filter_and_extract...\n",
      "__________________________________filter_and_extract cache loaded - 0.0s, 0.0min\n",
      "[NiftiMapsMasker.fit_transform] loading regions from C:\\Users\\hp\\nilearn_data\\msdl_atlas\\MSDL_rois\\msdl_rois.nii\n",
      "[Memory]198.0s, 3.3min  : Loading filter_and_extract...\n",
      "__________________________________filter_and_extract cache loaded - 0.0s, 0.0min\n",
      "[NiftiMapsMasker.fit_transform] loading regions from C:\\Users\\hp\\nilearn_data\\msdl_atlas\\MSDL_rois\\msdl_rois.nii\n",
      "[Memory]199.6s, 3.3min  : Loading filter_and_extract...\n",
      "__________________________________filter_and_extract cache loaded - 0.0s, 0.0min\n",
      "[NiftiMapsMasker.fit_transform] loading regions from C:\\Users\\hp\\nilearn_data\\msdl_atlas\\MSDL_rois\\msdl_rois.nii\n",
      "[Memory]201.3s, 3.4min  : Loading filter_and_extract...\n",
      "__________________________________filter_and_extract cache loaded - 0.0s, 0.0min\n",
      "[NiftiMapsMasker.fit_transform] loading regions from C:\\Users\\hp\\nilearn_data\\msdl_atlas\\MSDL_rois\\msdl_rois.nii\n",
      "[Memory]202.8s, 3.4min  : Loading filter_and_extract...\n",
      "__________________________________filter_and_extract cache loaded - 0.0s, 0.0min\n",
      "[NiftiMapsMasker.fit_transform] loading regions from C:\\Users\\hp\\nilearn_data\\msdl_atlas\\MSDL_rois\\msdl_rois.nii\n",
      "[Memory]204.3s, 3.4min  : Loading filter_and_extract...\n",
      "__________________________________filter_and_extract cache loaded - 0.0s, 0.0min\n",
      "[NiftiMapsMasker.fit_transform] loading regions from C:\\Users\\hp\\nilearn_data\\msdl_atlas\\MSDL_rois\\msdl_rois.nii\n",
      "[Memory]205.7s, 3.4min  : Loading filter_and_extract...\n",
      "__________________________________filter_and_extract cache loaded - 0.0s, 0.0min\n",
      "[NiftiMapsMasker.fit_transform] loading regions from C:\\Users\\hp\\nilearn_data\\msdl_atlas\\MSDL_rois\\msdl_rois.nii\n",
      "[Memory]207.2s, 3.5min  : Loading filter_and_extract...\n",
      "__________________________________filter_and_extract cache loaded - 0.0s, 0.0min\n",
      "[NiftiMapsMasker.fit_transform] loading regions from C:\\Users\\hp\\nilearn_data\\msdl_atlas\\MSDL_rois\\msdl_rois.nii\n",
      "[Memory]208.7s, 3.5min  : Loading filter_and_extract...\n",
      "__________________________________filter_and_extract cache loaded - 0.0s, 0.0min\n",
      "[NiftiMapsMasker.fit_transform] loading regions from C:\\Users\\hp\\nilearn_data\\msdl_atlas\\MSDL_rois\\msdl_rois.nii\n",
      "[Memory]210.1s, 3.5min  : Loading filter_and_extract...\n",
      "__________________________________filter_and_extract cache loaded - 0.0s, 0.0min\n",
      "[NiftiMapsMasker.fit_transform] loading regions from C:\\Users\\hp\\nilearn_data\\msdl_atlas\\MSDL_rois\\msdl_rois.nii\n",
      "[Memory]211.6s, 3.5min  : Loading filter_and_extract...\n",
      "__________________________________filter_and_extract cache loaded - 0.0s, 0.0min\n",
      "[NiftiMapsMasker.fit_transform] loading regions from C:\\Users\\hp\\nilearn_data\\msdl_atlas\\MSDL_rois\\msdl_rois.nii\n",
      "[Memory]213.1s, 3.6min  : Loading filter_and_extract...\n",
      "__________________________________filter_and_extract cache loaded - 0.0s, 0.0min\n",
      "[NiftiMapsMasker.fit_transform] loading regions from C:\\Users\\hp\\nilearn_data\\msdl_atlas\\MSDL_rois\\msdl_rois.nii\n",
      "[Memory]214.9s, 3.6min  : Loading filter_and_extract...\n",
      "__________________________________filter_and_extract cache loaded - 0.0s, 0.0min\n",
      "[NiftiMapsMasker.fit_transform] loading regions from C:\\Users\\hp\\nilearn_data\\msdl_atlas\\MSDL_rois\\msdl_rois.nii\n",
      "[Memory]216.3s, 3.6min  : Loading filter_and_extract...\n",
      "__________________________________filter_and_extract cache loaded - 0.0s, 0.0min\n",
      "[NiftiMapsMasker.fit_transform] loading regions from C:\\Users\\hp\\nilearn_data\\msdl_atlas\\MSDL_rois\\msdl_rois.nii\n",
      "[Memory]217.9s, 3.6min  : Loading filter_and_extract...\n",
      "__________________________________filter_and_extract cache loaded - 0.0s, 0.0min\n",
      "[NiftiMapsMasker.fit_transform] loading regions from C:\\Users\\hp\\nilearn_data\\msdl_atlas\\MSDL_rois\\msdl_rois.nii\n",
      "[Memory]219.3s, 3.7min  : Loading filter_and_extract...\n",
      "__________________________________filter_and_extract cache loaded - 0.0s, 0.0min\n",
      "[NiftiMapsMasker.fit_transform] loading regions from C:\\Users\\hp\\nilearn_data\\msdl_atlas\\MSDL_rois\\msdl_rois.nii\n",
      "[Memory]220.9s, 3.7min  : Loading filter_and_extract...\n",
      "__________________________________filter_and_extract cache loaded - 0.0s, 0.0min\n",
      "[NiftiMapsMasker.fit_transform] loading regions from C:\\Users\\hp\\nilearn_data\\msdl_atlas\\MSDL_rois\\msdl_rois.nii\n",
      "[Memory]222.2s, 3.7min  : Loading filter_and_extract...\n",
      "__________________________________filter_and_extract cache loaded - 0.0s, 0.0min\n",
      "[NiftiMapsMasker.fit_transform] loading regions from C:\\Users\\hp\\nilearn_data\\msdl_atlas\\MSDL_rois\\msdl_rois.nii\n",
      "[Memory]223.7s, 3.7min  : Loading filter_and_extract...\n",
      "__________________________________filter_and_extract cache loaded - 0.0s, 0.0min\n",
      "[NiftiMapsMasker.fit_transform] loading regions from C:\\Users\\hp\\nilearn_data\\msdl_atlas\\MSDL_rois\\msdl_rois.nii\n",
      "[Memory]225.1s, 3.8min  : Loading filter_and_extract...\n",
      "__________________________________filter_and_extract cache loaded - 0.0s, 0.0min\n",
      "[NiftiMapsMasker.fit_transform] loading regions from C:\\Users\\hp\\nilearn_data\\msdl_atlas\\MSDL_rois\\msdl_rois.nii\n",
      "[Memory]226.6s, 3.8min  : Loading filter_and_extract...\n",
      "__________________________________filter_and_extract cache loaded - 0.0s, 0.0min\n",
      "[NiftiMapsMasker.fit_transform] loading regions from C:\\Users\\hp\\nilearn_data\\msdl_atlas\\MSDL_rois\\msdl_rois.nii\n",
      "[Memory]228.2s, 3.8min  : Loading filter_and_extract...\n",
      "__________________________________filter_and_extract cache loaded - 0.0s, 0.0min\n",
      "[NiftiMapsMasker.fit_transform] loading regions from C:\\Users\\hp\\nilearn_data\\msdl_atlas\\MSDL_rois\\msdl_rois.nii\n",
      "[Memory]229.7s, 3.8min  : Loading filter_and_extract...\n",
      "__________________________________filter_and_extract cache loaded - 0.0s, 0.0min\n",
      "[NiftiMapsMasker.fit_transform] loading regions from C:\\Users\\hp\\nilearn_data\\msdl_atlas\\MSDL_rois\\msdl_rois.nii\n",
      "[Memory]231.1s, 3.9min  : Loading filter_and_extract...\n",
      "__________________________________filter_and_extract cache loaded - 0.0s, 0.0min\n",
      "[NiftiMapsMasker.fit_transform] loading regions from C:\\Users\\hp\\nilearn_data\\msdl_atlas\\MSDL_rois\\msdl_rois.nii\n",
      "[Memory]232.4s, 3.9min  : Loading filter_and_extract...\n",
      "__________________________________filter_and_extract cache loaded - 0.0s, 0.0min\n",
      "[NiftiMapsMasker.fit_transform] loading regions from C:\\Users\\hp\\nilearn_data\\msdl_atlas\\MSDL_rois\\msdl_rois.nii\n",
      "[Memory]233.9s, 3.9min  : Loading filter_and_extract...\n",
      "__________________________________filter_and_extract cache loaded - 0.0s, 0.0min\n",
      "[NiftiMapsMasker.fit_transform] loading regions from C:\\Users\\hp\\nilearn_data\\msdl_atlas\\MSDL_rois\\msdl_rois.nii\n",
      "[Memory]235.5s, 3.9min  : Loading filter_and_extract...\n",
      "__________________________________filter_and_extract cache loaded - 0.0s, 0.0min\n",
      "[NiftiMapsMasker.fit_transform] loading regions from C:\\Users\\hp\\nilearn_data\\msdl_atlas\\MSDL_rois\\msdl_rois.nii\n",
      "[Memory]236.9s, 3.9min  : Loading filter_and_extract...\n",
      "__________________________________filter_and_extract cache loaded - 0.0s, 0.0min\n",
      "[NiftiMapsMasker.fit_transform] loading regions from C:\\Users\\hp\\nilearn_data\\msdl_atlas\\MSDL_rois\\msdl_rois.nii\n",
      "[Memory]238.4s, 4.0min  : Loading filter_and_extract...\n",
      "__________________________________filter_and_extract cache loaded - 0.0s, 0.0min\n",
      "[NiftiMapsMasker.fit_transform] loading regions from C:\\Users\\hp\\nilearn_data\\msdl_atlas\\MSDL_rois\\msdl_rois.nii\n",
      "[Memory]239.8s, 4.0min  : Loading filter_and_extract...\n",
      "__________________________________filter_and_extract cache loaded - 0.0s, 0.0min\n",
      "[NiftiMapsMasker.fit_transform] loading regions from C:\\Users\\hp\\nilearn_data\\msdl_atlas\\MSDL_rois\\msdl_rois.nii\n",
      "[Memory]241.2s, 4.0min  : Loading filter_and_extract...\n",
      "__________________________________filter_and_extract cache loaded - 0.0s, 0.0min\n",
      "[NiftiMapsMasker.fit_transform] loading regions from C:\\Users\\hp\\nilearn_data\\msdl_atlas\\MSDL_rois\\msdl_rois.nii\n",
      "[Memory]242.8s, 4.0min  : Loading filter_and_extract...\n",
      "__________________________________filter_and_extract cache loaded - 0.0s, 0.0min\n",
      "[NiftiMapsMasker.fit_transform] loading regions from C:\\Users\\hp\\nilearn_data\\msdl_atlas\\MSDL_rois\\msdl_rois.nii\n",
      "[Memory]244.2s, 4.1min  : Loading filter_and_extract...\n",
      "__________________________________filter_and_extract cache loaded - 0.0s, 0.0min\n",
      "[NiftiMapsMasker.fit_transform] loading regions from C:\\Users\\hp\\nilearn_data\\msdl_atlas\\MSDL_rois\\msdl_rois.nii\n",
      "[Memory]245.8s, 4.1min  : Loading filter_and_extract...\n",
      "__________________________________filter_and_extract cache loaded - 0.0s, 0.0min\n",
      "[NiftiMapsMasker.fit_transform] loading regions from C:\\Users\\hp\\nilearn_data\\msdl_atlas\\MSDL_rois\\msdl_rois.nii\n",
      "[Memory]247.4s, 4.1min  : Loading filter_and_extract...\n",
      "__________________________________filter_and_extract cache loaded - 0.0s, 0.0min\n",
      "[NiftiMapsMasker.fit_transform] loading regions from C:\\Users\\hp\\nilearn_data\\msdl_atlas\\MSDL_rois\\msdl_rois.nii\n",
      "[Memory]248.8s, 4.1min  : Loading filter_and_extract...\n",
      "__________________________________filter_and_extract cache loaded - 0.0s, 0.0min\n",
      "[NiftiMapsMasker.fit_transform] loading regions from C:\\Users\\hp\\nilearn_data\\msdl_atlas\\MSDL_rois\\msdl_rois.nii\n",
      "[Memory]250.5s, 4.2min  : Loading filter_and_extract...\n",
      "__________________________________filter_and_extract cache loaded - 0.0s, 0.0min\n",
      "[NiftiMapsMasker.fit_transform] loading regions from C:\\Users\\hp\\nilearn_data\\msdl_atlas\\MSDL_rois\\msdl_rois.nii\n",
      "[Memory]251.9s, 4.2min  : Loading filter_and_extract...\n",
      "__________________________________filter_and_extract cache loaded - 0.0s, 0.0min\n",
      "[NiftiMapsMasker.fit_transform] loading regions from C:\\Users\\hp\\nilearn_data\\msdl_atlas\\MSDL_rois\\msdl_rois.nii\n",
      "[Memory]253.5s, 4.2min  : Loading filter_and_extract...\n",
      "__________________________________filter_and_extract cache loaded - 0.0s, 0.0min\n"
     ]
    }
   ],
   "source": [
    "from nilearn.connectome import ConnectivityMeasure\n",
    "corr_data = []\n",
    "#variance = []\n",
    "print('|'*40)\n",
    "for i in range(94):\n",
    "    func_filename =str('F:\\\\Data Analytics\\\\BTP I\\\\Data\\\\www.nitrc.org\\\\ir\\\\') + str(df.values[i,0])+str('_1\\\\rest_1\\\\NIfTI\\\\rest.nii.gz')\n",
    "    time_series = masker.fit_transform(func_filename)\n",
    "    correlation_measure = ConnectivityMeasure(kind='correlation')\n",
    "    correlation_matrix = correlation_measure.fit_transform([time_series])[0]\n",
    "    corr_data.append(correlation_matrix)\n",
    "    #pca = PCA(n_components=10)\n",
    "    #data = pca.fit_transform(time_series[:75,:])\n",
    "    #exp_variance = pca.explained_variance_ratio_\n",
    "    #pca_data.append(data)\n",
    "    #variance.append(exp_variance)\n",
    "    #print('|',end='')"
   ]
  },
  {
   "cell_type": "code",
   "execution_count": 9,
   "metadata": {},
   "outputs": [],
   "source": [
    "################## SAVING DATA ######################\n",
    "import pickle\n",
    "with open(\"Data/kki_corr_msdl.txt\", \"wb\") as fp: \n",
    "    pickle.dump(corr_data, fp)"
   ]
  },
  {
   "cell_type": "code",
   "execution_count": 28,
   "metadata": {},
   "outputs": [],
   "source": [
    "################### LOADING DATA ######################\n",
    "import pickle\n",
    "with open(\"Data/kki_corr_msdl.txt\", \"rb\") as fp:\n",
    "    corr_data = pickle.load(fp)"
   ]
  },
  {
   "cell_type": "code",
   "execution_count": 12,
   "metadata": {},
   "outputs": [
    {
     "output_type": "execute_result",
     "data": {
      "text/plain": [
       "(39, 39)"
      ]
     },
     "metadata": {},
     "execution_count": 12
    }
   ],
   "source": [
    "corr_data[93].shape"
   ]
  },
  {
   "cell_type": "code",
   "execution_count": 29,
   "metadata": {},
   "outputs": [
    {
     "output_type": "execute_result",
     "data": {
      "text/plain": [
       "(39, 39, 1)"
      ]
     },
     "metadata": {},
     "execution_count": 29
    }
   ],
   "source": [
    "for i in range(len(corr_data)):\n",
    "    corr_data[i] = corr_data[i].reshape(39,39,1) #Time, PCA, nsample\n",
    "    \n",
    "corr_data[90].shape"
   ]
  },
  {
   "cell_type": "code",
   "execution_count": 30,
   "metadata": {},
   "outputs": [],
   "source": [
    "train = np.array(corr_data[:80])\n",
    "test = np.array(corr_data[80:])\n",
    "\n",
    "y = df.values[:,1]\n",
    "y_train = y[:80]\n",
    "y_test = y[80:]"
   ]
  },
  {
   "cell_type": "code",
   "execution_count": 6,
   "metadata": {},
   "outputs": [],
   "source": [
    "################## TESTING WITH NILEARN 40 ###########################\n",
    "import pickle\n",
    "with open(\"Data/nilearn_pca_msdl.txt\", \"rb\") as fp:\n",
    "    data = pickle.load(fp)\n",
    "    \n",
    "for i in range(len(data)):\n",
    "    data[i] = data[i].reshape(75,10,1) #Time, PCA, nsample\n",
    "test = np.array(data)\n",
    "test=np.asarray(test).astype(np.float32)\n",
    "df2 = pd.read_csv('nilearn.csv',usecols =['adhd'])\n",
    "y_test = df2['adhd']"
   ]
  },
  {
   "cell_type": "code",
   "execution_count": 37,
   "metadata": {},
   "outputs": [
    {
     "output_type": "stream",
     "name": "stdout",
     "text": [
      "Model: \"sequential_3\"\n_________________________________________________________________\nLayer (type)                 Output Shape              Param #   \n=================================================================\nconv2d_6 (Conv2D)            (None, 37, 37, 16)        160       \n_________________________________________________________________\nmax_pooling2d_6 (MaxPooling2 (None, 18, 18, 16)        0         \n_________________________________________________________________\nconv2d_7 (Conv2D)            (None, 16, 16, 8)         1160      \n_________________________________________________________________\nmax_pooling2d_7 (MaxPooling2 (None, 8, 8, 8)           0         \n_________________________________________________________________\nflatten_3 (Flatten)          (None, 512)               0         \n_________________________________________________________________\ndense_9 (Dense)              (None, 200)               102600    \n_________________________________________________________________\ndense_10 (Dense)             (None, 50)                10050     \n_________________________________________________________________\ndense_11 (Dense)             (None, 1)                 51        \n=================================================================\nTotal params: 114,021\nTrainable params: 114,021\nNon-trainable params: 0\n_________________________________________________________________\n"
     ]
    }
   ],
   "source": [
    "import tensorflow as tf\n",
    "import keras\n",
    "\n",
    "from tensorflow.keras import datasets, layers, models\n",
    "from keras.layers import Dropout\n",
    "\n",
    "model = models.Sequential()\n",
    "model.add(layers.Conv2D(16, (3, 3), activation='relu', input_shape=(39, 39, 1))) #Time, PCA, nsample\n",
    "model.add(layers.MaxPooling2D((2, 2)))\n",
    "model.add(layers.Conv2D(8, (3, 3), activation='relu'))\n",
    "model.add(layers.MaxPooling2D((2, 2)))\n",
    "#model.add(layers.Conv2D(32, (3, 3), activation='relu'))\n",
    "#model.add(layers.MaxPooling2D((2, 2)))\n",
    "\n",
    "model.add(layers.Flatten())\n",
    "model.add(layers.Dense(200, activation='relu'))\n",
    "#model.add(Dropout(0.2))\n",
    "model.add(layers.Dense(50, activation='relu'))\n",
    "#model.add(Dropout(0.2))\n",
    "model.add(layers.Dense(1, activation='sigmoid'))\n",
    "\n",
    "model.summary()"
   ]
  },
  {
   "cell_type": "code",
   "execution_count": 38,
   "metadata": {},
   "outputs": [],
   "source": [
    "#model.compile(loss=keras.losses.categorical_crossentropy,\n",
    "#              optimizer=keras.optimizers.Adadelta(),\n",
    "#              metrics=['accuracy'])\n",
    "model.compile(loss='binary_crossentropy', optimizer='adam', metrics=['accuracy'])"
   ]
  },
  {
   "cell_type": "code",
   "execution_count": 39,
   "metadata": {},
   "outputs": [],
   "source": [
    "train=np.asarray(train).astype(np.float32)\n",
    "y_train=np.asarray(y_train).astype(np.int)\n",
    "\n",
    "test=np.asarray(test).astype(np.float32)\n",
    "y_test=np.asarray(y_test).astype(np.int)"
   ]
  },
  {
   "cell_type": "code",
   "execution_count": 40,
   "metadata": {},
   "outputs": [
    {
     "output_type": "stream",
     "name": "stdout",
     "text": [
      "Epoch 1/20\n",
      "16/16 [==============================] - 1s 18ms/step - loss: 0.6459 - accuracy: 0.6916 - val_loss: 0.5800 - val_accuracy: 0.8571\n",
      "Epoch 2/20\n",
      "16/16 [==============================] - 0s 7ms/step - loss: 0.6289 - accuracy: 0.6775 - val_loss: 0.4549 - val_accuracy: 0.8571\n",
      "Epoch 3/20\n",
      "16/16 [==============================] - 0s 7ms/step - loss: 0.5737 - accuracy: 0.7256 - val_loss: 0.5059 - val_accuracy: 0.8571\n",
      "Epoch 4/20\n",
      "16/16 [==============================] - 0s 7ms/step - loss: 0.6304 - accuracy: 0.6150 - val_loss: 0.4901 - val_accuracy: 0.8571\n",
      "Epoch 5/20\n",
      "16/16 [==============================] - 0s 9ms/step - loss: 0.5328 - accuracy: 0.7356 - val_loss: 0.6365 - val_accuracy: 0.7857\n",
      "Epoch 6/20\n",
      "16/16 [==============================] - 0s 8ms/step - loss: 0.5500 - accuracy: 0.7916 - val_loss: 0.5366 - val_accuracy: 0.8571\n",
      "Epoch 7/20\n",
      "16/16 [==============================] - 0s 7ms/step - loss: 0.4565 - accuracy: 0.7695 - val_loss: 0.6618 - val_accuracy: 0.7143\n",
      "Epoch 8/20\n",
      "16/16 [==============================] - 0s 10ms/step - loss: 0.5365 - accuracy: 0.7906 - val_loss: 0.5107 - val_accuracy: 0.8571\n",
      "Epoch 9/20\n",
      "16/16 [==============================] - 0s 9ms/step - loss: 0.4128 - accuracy: 0.7509 - val_loss: 0.6036 - val_accuracy: 0.8571\n",
      "Epoch 10/20\n",
      "16/16 [==============================] - 0s 7ms/step - loss: 0.3326 - accuracy: 0.9538 - val_loss: 0.7094 - val_accuracy: 0.7143\n",
      "Epoch 11/20\n",
      "16/16 [==============================] - 0s 9ms/step - loss: 0.2460 - accuracy: 0.9591 - val_loss: 0.7722 - val_accuracy: 0.7857\n",
      "Epoch 12/20\n",
      "16/16 [==============================] - 0s 7ms/step - loss: 0.1337 - accuracy: 1.0000 - val_loss: 0.8666 - val_accuracy: 0.7857\n",
      "Epoch 13/20\n",
      "16/16 [==============================] - 0s 7ms/step - loss: 0.0497 - accuracy: 1.0000 - val_loss: 1.0824 - val_accuracy: 0.7143\n",
      "Epoch 14/20\n",
      "16/16 [==============================] - 0s 7ms/step - loss: 0.0270 - accuracy: 1.0000 - val_loss: 1.3248 - val_accuracy: 0.5714\n",
      "Epoch 15/20\n",
      "16/16 [==============================] - 0s 7ms/step - loss: 0.0214 - accuracy: 1.0000 - val_loss: 1.4774 - val_accuracy: 0.4286\n",
      "Epoch 16/20\n",
      "16/16 [==============================] - 0s 7ms/step - loss: 0.0096 - accuracy: 1.0000 - val_loss: 1.4661 - val_accuracy: 0.5000\n",
      "Epoch 17/20\n",
      "16/16 [==============================] - 0s 7ms/step - loss: 0.0076 - accuracy: 1.0000 - val_loss: 1.4980 - val_accuracy: 0.6429\n",
      "Epoch 18/20\n",
      "16/16 [==============================] - 0s 7ms/step - loss: 0.0060 - accuracy: 1.0000 - val_loss: 1.6622 - val_accuracy: 0.5000\n",
      "Epoch 19/20\n",
      "16/16 [==============================] - 0s 7ms/step - loss: 0.0050 - accuracy: 1.0000 - val_loss: 1.5855 - val_accuracy: 0.7143\n",
      "Epoch 20/20\n",
      "16/16 [==============================] - 0s 7ms/step - loss: 0.0049 - accuracy: 1.0000 - val_loss: 1.6600 - val_accuracy: 0.6429\n"
     ]
    }
   ],
   "source": [
    "batch_size = 5\n",
    "num_epoch = 20\n",
    "#model training\n",
    "model_log = model.fit(train, y_train,\n",
    "          batch_size=batch_size,\n",
    "          epochs=num_epoch,\n",
    "          verbose=1,validation_data=(test, y_test),) #class_weight={0:1, 1:3})"
   ]
  },
  {
   "cell_type": "code",
   "execution_count": 41,
   "metadata": {},
   "outputs": [
    {
     "output_type": "stream",
     "name": "stdout",
     "text": [
      "[23, 23] [57, 57]\n"
     ]
    }
   ],
   "source": [
    "y_pred = model.predict_classes(train)\n",
    "adhd = [0,0]\n",
    "typic = [0,0]\n",
    "for i in range(len(y_pred)):\n",
    "    if(y_pred[i]==1 and y_train[i]==1):\n",
    "        adhd[0] = adhd[0]+1\n",
    "        adhd[1] = adhd[1]+1\n",
    "    elif(y_pred[i]==0 and y_train[i]==1):\n",
    "        adhd[1] = adhd[1]+1\n",
    "    if(y_pred[i]==0 and y_train[i]==0):\n",
    "        typic[0] = typic[0]+1\n",
    "        typic[1] = typic[1]+1\n",
    "    elif(y_pred[i]==1 and y_train[i]==0):\n",
    "        typic[1] = typic[1]+1\n",
    "    \n",
    "print(adhd, typic)"
   ]
  },
  {
   "cell_type": "code",
   "execution_count": 43,
   "metadata": {},
   "outputs": [
    {
     "output_type": "execute_result",
     "data": {
      "text/plain": [
       "array([[2.7972859e-01],\n",
       "       [5.0720507e-01],\n",
       "       [9.8586679e-03],\n",
       "       [1.6008238e-05],\n",
       "       [8.1600547e-03],\n",
       "       [8.7103927e-01],\n",
       "       [4.4779289e-01],\n",
       "       [4.4251859e-02],\n",
       "       [1.7471433e-02],\n",
       "       [4.7726035e-03],\n",
       "       [3.2961369e-04],\n",
       "       [3.6011130e-01],\n",
       "       [9.2913926e-01],\n",
       "       [5.2858108e-05]], dtype=float32)"
      ]
     },
     "metadata": {},
     "execution_count": 43
    }
   ],
   "source": [
    "y_pred = model.predict(test)\n",
    "for i in range()"
   ]
  },
  {
   "cell_type": "code",
   "execution_count": 42,
   "metadata": {},
   "outputs": [
    {
     "output_type": "stream",
     "name": "stdout",
     "text": [
      "[0, 2] [9, 12]\n"
     ]
    }
   ],
   "source": [
    "y_pred = model.predict_classes(test)\n",
    "adhd = [0,0]\n",
    "typic = [0,0]\n",
    "for i in range(len(y_pred)):\n",
    "    if(y_pred[i]==1 and y_test[i]==1):\n",
    "        adhd[0] = adhd[0]+1\n",
    "        adhd[1] = adhd[1]+1\n",
    "    elif(y_pred[i]==0 and y_test[i]==1):\n",
    "        adhd[1] = adhd[1]+1\n",
    "    if(y_pred[i]==0 and y_test[i]==0):\n",
    "        typic[0] = typic[0]+1\n",
    "        typic[1] = typic[1]+1\n",
    "    elif(y_pred[i]==1 and y_test[i]==0):\n",
    "        typic[1] = typic[1]+1\n",
    "    \n",
    "print(adhd, typic)"
   ]
  },
  {
   "cell_type": "code",
   "execution_count": 22,
   "metadata": {},
   "outputs": [],
   "source": [
    "################## TESTING WITH NILEARN 40 ###########################\n",
    "import pickle\n",
    "with open(\"Data/nilearn_pca_msdl.txt\", \"rb\") as fp:\n",
    "    data = pickle.load(fp)\n",
    "    \n",
    "for i in range(len(data)):\n",
    "    data[i] = data[i].reshape(75,10,1) #Time, PCA, nsample\n",
    "test = np.array(data)\n",
    "test=np.asarray(test).astype(np.float32)\n",
    "df2 = pd.read_csv('nilearn.csv',usecols =['adhd'])\n",
    "y_test = df2['adhd']"
   ]
  },
  {
   "cell_type": "code",
   "execution_count": null,
   "metadata": {},
   "outputs": [],
   "source": []
  },
  {
   "cell_type": "code",
   "execution_count": null,
   "metadata": {},
   "outputs": [],
   "source": []
  },
  {
   "cell_type": "code",
   "execution_count": null,
   "metadata": {},
   "outputs": [],
   "source": []
  }
 ],
 "metadata": {
  "kernelspec": {
   "name": "python373jvsc74a57bd060eb1d0f96393a1e0420bb6ca0f5435a81d9c3ff4319ce3c90a222065ab89d85",
   "display_name": "Python 3.7.3 64-bit"
  },
  "language_info": {
   "codemirror_mode": {
    "name": "ipython",
    "version": 3
   },
   "file_extension": ".py",
   "mimetype": "text/x-python",
   "name": "python",
   "nbconvert_exporter": "python",
   "pygments_lexer": "ipython3",
   "version": "3.7.3"
  }
 },
 "nbformat": 4,
 "nbformat_minor": 2
}